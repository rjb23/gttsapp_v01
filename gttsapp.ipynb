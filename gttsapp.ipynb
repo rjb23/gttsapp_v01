{
 "cells": [
  {
   "cell_type": "code",
   "execution_count": 1,
   "id": "3890570f-aa59-47e4-a6ae-36b83ebd4e5a",
   "metadata": {},
   "outputs": [
    {
     "name": "stdout",
     "output_type": "stream",
     "text": [
      "Collecting gTTS\n",
      "  Downloading gTTS-2.5.3-py3-none-any.whl.metadata (4.1 kB)\n",
      "Requirement already satisfied: requests<3,>=2.27 in c:\\users\\owner\\anaconda3\\lib\\site-packages (from gTTS) (2.32.2)\n",
      "Requirement already satisfied: click<8.2,>=7.1 in c:\\users\\owner\\anaconda3\\lib\\site-packages (from gTTS) (8.1.7)\n",
      "Requirement already satisfied: colorama in c:\\users\\owner\\anaconda3\\lib\\site-packages (from click<8.2,>=7.1->gTTS) (0.4.6)\n",
      "Requirement already satisfied: charset-normalizer<4,>=2 in c:\\users\\owner\\anaconda3\\lib\\site-packages (from requests<3,>=2.27->gTTS) (2.0.4)\n",
      "Requirement already satisfied: idna<4,>=2.5 in c:\\users\\owner\\anaconda3\\lib\\site-packages (from requests<3,>=2.27->gTTS) (3.7)\n",
      "Requirement already satisfied: urllib3<3,>=1.21.1 in c:\\users\\owner\\anaconda3\\lib\\site-packages (from requests<3,>=2.27->gTTS) (2.2.2)\n",
      "Requirement already satisfied: certifi>=2017.4.17 in c:\\users\\owner\\anaconda3\\lib\\site-packages (from requests<3,>=2.27->gTTS) (2024.7.4)\n",
      "Downloading gTTS-2.5.3-py3-none-any.whl (29 kB)\n",
      "Installing collected packages: gTTS\n",
      "Successfully installed gTTS-2.5.3\n",
      "Note: you may need to restart the kernel to use updated packages.\n"
     ]
    }
   ],
   "source": [
    "pip install gTTS\n"
   ]
  },
  {
   "cell_type": "code",
   "execution_count": 1,
   "id": "a74750c5-b9da-4ebf-b625-96a289709f18",
   "metadata": {},
   "outputs": [
    {
     "name": "stdout",
     "output_type": "stream",
     "text": [
      "Text-to-Speech App\n",
      "1. Enter text manually\n",
      "2. Load text from a file\n"
     ]
    },
    {
     "name": "stdin",
     "output_type": "stream",
     "text": [
      "Choose an option (1 or 2):  1\n",
      "Enter the text you want to convert to speech:  hello world\n"
     ]
    },
    {
     "name": "stdout",
     "output_type": "stream",
     "text": [
      "Audio saved as output.mp3\n"
     ]
    }
   ],
   "source": [
    "from gtts import gTTS\n",
    "import os\n",
    "\n",
    "def text_to_speech(text, output_file='output.mp3'):\n",
    "    try:\n",
    "        # Initialize gTTS object\n",
    "        tts = gTTS(text=text, lang='en', slow=False)\n",
    "        # Save the audio file\n",
    "        tts.save(output_file)\n",
    "        print(f\"Audio saved as {output_file}\")\n",
    "    except Exception as e:\n",
    "        print(f\"An error occurred: {e}\")\n",
    "\n",
    "def main():\n",
    "    print(\"Text-to-Speech App\")\n",
    "    print(\"1. Enter text manually\")\n",
    "    print(\"2. Load text from a file\")\n",
    "    choice = input(\"Choose an option (1 or 2): \")\n",
    "\n",
    "    if choice == '1':\n",
    "        text = input(\"Enter the text you want to convert to speech: \")\n",
    "        if text:\n",
    "            text_to_speech(text)\n",
    "        else:\n",
    "            print(\"Text cannot be empty.\")\n",
    "    elif choice == '2':\n",
    "        file_path = input(\"Enter the path to the text file (e.g., document.txt): \")\n",
    "        if os.path.isfile(file_path):\n",
    "            try:\n",
    "                with open(file_path, 'r') as file:\n",
    "                    text = file.read()\n",
    "                    if text:\n",
    "                        text_to_speech(text)\n",
    "                    else:\n",
    "                        print(\"The file is empty.\")\n",
    "            except Exception as e:\n",
    "                print(f\"Could not read the file: {e}\")\n",
    "        else:\n",
    "            print(\"Invalid file path.\")\n",
    "    else:\n",
    "        print(\"Invalid choice. Please choose either 1 or 2.\")\n",
    "\n",
    "if __name__ == \"__main__\":\n",
    "    main()\n"
   ]
  },
  {
   "cell_type": "code",
   "execution_count": 5,
   "id": "dd757043-0cd0-4b03-acfb-b4452a528c2d",
   "metadata": {},
   "outputs": [
    {
     "name": "stdout",
     "output_type": "stream",
     "text": [
      "Text-to-Speech App\n",
      "1. Enter text manually\n",
      "2. Load text from a file\n"
     ]
    },
    {
     "name": "stdin",
     "output_type": "stream",
     "text": [
      "Choose an option (1 or 2):  1\n",
      "Enter the text you want to convert to speech:  Hello, my name is justin and I am a human being. Would you like to learn more about my research?\n"
     ]
    },
    {
     "name": "stdout",
     "output_type": "stream",
     "text": [
      "Audio saved as output.mp3\n"
     ]
    }
   ],
   "source": [
    "from gtts import gTTS\n",
    "import os\n",
    "import platform\n",
    "import subprocess\n",
    "\n",
    "def text_to_speech(text, output_file='output.mp3'):\n",
    "    try:\n",
    "        # Initialize gTTS object\n",
    "        tts = gTTS(text=text, lang='en', slow=False)\n",
    "        # Save the audio file\n",
    "        tts.save(output_file)\n",
    "        print(f\"Audio saved as {output_file}\")\n",
    "        # Play the audio file\n",
    "        play_audio(output_file)\n",
    "    except Exception as e:\n",
    "        print(f\"An error occurred: {e}\")\n",
    "\n",
    "def play_audio(file_path):\n",
    "    try:\n",
    "        if platform.system() == \"Windows\":\n",
    "            os.startfile(file_path)\n",
    "        elif platform.system() == \"Darwin\":  # macOS\n",
    "            subprocess.call([\"open\", file_path])\n",
    "        else:  # Linux and other OS\n",
    "            subprocess.call([\"xdg-open\", file_path])\n",
    "    except Exception as e:\n",
    "        print(f\"Could not play the audio: {e}\")\n",
    "\n",
    "def main():\n",
    "    print(\"Text-to-Speech App\")\n",
    "    print(\"1. Enter text manually\")\n",
    "    print(\"2. Load text from a file\")\n",
    "    choice = input(\"Choose an option (1 or 2): \")\n",
    "\n",
    "    if choice == '1':\n",
    "        text = input(\"Enter the text you want to convert to speech: \")\n",
    "        if text:\n",
    "            text_to_speech(text)\n",
    "        else:\n",
    "            print(\"Text cannot be empty.\")\n",
    "    elif choice == '2':\n",
    "        file_path = input(\"Enter the path to the text file (e.g., document.txt): \")\n",
    "        if os.path.isfile(file_path):\n",
    "            try:\n",
    "                with open(file_path, 'r') as file:\n",
    "                    text = file.read()\n",
    "                    if text:\n",
    "                        text_to_speech(text)\n",
    "                    else:\n",
    "                        print(\"The file is empty.\")\n",
    "            except Exception as e:\n",
    "                print(f\"Could not read the file: {e}\")\n",
    "        else:\n",
    "            print(\"Invalid file path.\")\n",
    "    else:\n",
    "        print(\"Invalid choice. Please choose either 1 or 2.\")\n",
    "\n",
    "if __name__ == \"__main__\":\n",
    "    main()\n"
   ]
  },
  {
   "cell_type": "code",
   "execution_count": null,
   "id": "344c7ffa-6150-4cf1-b475-a907c1a436a4",
   "metadata": {},
   "outputs": [],
   "source": []
  }
 ],
 "metadata": {
  "kernelspec": {
   "display_name": "Python 3 (ipykernel)",
   "language": "python",
   "name": "python3"
  },
  "language_info": {
   "codemirror_mode": {
    "name": "ipython",
    "version": 3
   },
   "file_extension": ".py",
   "mimetype": "text/x-python",
   "name": "python",
   "nbconvert_exporter": "python",
   "pygments_lexer": "ipython3",
   "version": "3.12.4"
  }
 },
 "nbformat": 4,
 "nbformat_minor": 5
}
